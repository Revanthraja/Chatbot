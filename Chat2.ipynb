{
 "cells": [
  {
   "cell_type": "code",
   "execution_count": 22,
   "id": "2184804c",
   "metadata": {},
   "outputs": [],
   "source": [
    "import numpy as np\n",
    "import tensorflow as tf\n",
    "import tflearn\n",
    "import random\n",
    "from tensorflow.keras.models import load_model\n",
    "import nltk\n",
    "from nltk.stem.lancaster import LancasterStemmer\n",
    "stemmeer=LancasterStemmer()\n",
    "\n",
    "import json\n",
    "import pickle\n",
    "import matplotlib.pyplot as plt"
   ]
  },
  {
   "cell_type": "code",
   "execution_count": 2,
   "id": "75b12878",
   "metadata": {},
   "outputs": [
    {
     "name": "stdout",
     "output_type": "stream",
     "text": [
      "Processing the intents in data\n"
     ]
    }
   ],
   "source": [
    "print(\"Processing the intents in data\")\n",
    "with open('/media/revanth/Data/NLP_R/archive/Intent.json') as content2:\n",
    "    data2=json.load(content2)"
   ]
  },
  {
   "cell_type": "markdown",
   "id": "ac06c40c",
   "metadata": {},
   "source": [
    "Looping through the Intents to convert them the words,classes documents and the ignore_words"
   ]
  },
  {
   "cell_type": "code",
   "execution_count": 3,
   "id": "dc1ae38e",
   "metadata": {},
   "outputs": [],
   "source": [
    "words=[]\n",
    "classes=[]\n",
    "documents=[]\n",
    "ignore_words=['?','!']\n",
    "#print(\"Looping through the Intents to convert them the words,classes documents and the ignore_words\")\n",
    "for intent in data2['intents']:\n",
    "    for pattern in intent['text']:\n",
    "        w=nltk.word_tokenize(pattern)\n",
    "        words.extend(w)\n",
    "        documents.append((w,intent['intent']))\n",
    "        \n",
    "        if intent['intent'] not in classes:\n",
    "            classes.append(intent['intent'])"
   ]
  },
  {
   "cell_type": "markdown",
   "id": "7b753b5e",
   "metadata": {},
   "source": [
    "Stemming ,lowering and removing duplicates"
   ]
  },
  {
   "cell_type": "code",
   "execution_count": 4,
   "id": "fcff4573",
   "metadata": {},
   "outputs": [
    {
     "name": "stdout",
     "output_type": "stream",
     "text": [
      "143 documents\n",
      "22 classes ['Clever', 'CourtesyGoodBye', 'CourtesyGreeting', 'CourtesyGreetingResponse', 'CurrentHumanQuery', 'GoodBye', 'Gossip', 'Greeting', 'GreetingResponse', 'Jokes', 'NameQuery', 'NotTalking2U', 'PodBayDoor', 'PodBayDoorResponse', 'RealNameQuery', 'SelfAware', 'Shutup', 'Swearing', 'Thanks', 'TimeQuery', 'UnderstandQuery', 'WhoAmI']\n",
      "115  unique stemmed words [\"'s\", ',', 'a', 'about', 'adam', 'adio', 'am', 'any', 'anyon', 'ar', 'aw', 'bay', 'be', 'bell', 'bor', 'by', 'bye', 'cal', 'camer', 'can', 'che', 'clev', 'commun', 'comprendo', 'conscy', 'could', 'do', 'doing', 'door', 'enough', 'for', 'friend', 'fuck', 'geny', 'get', 'girl', 'giv', 'good', 'goodby', 'gossip', 'got', 'gre', 'hav', 'hear', 'hello', 'help', 'hi', 'hol', 'hop', 'how', 'hya', 'i', 'ident', 'in', 'intellig', 'is', 'it', 'jok', 'know', 'lat', 'laugh', 'mak', 'me', 'mean', 'meant', 'mor', 'my', \"n't\", 'nam', 'nee', 'not', 'off', 'ok', 'op', 'pleas', 'pod', 'prov', 'quiet', 'real', 'say', 'see', 'self', 'self-aware', 'shhh', 'shit', 'shut', 'som', 'speak', 'stop', 'sur', 'talk', 'tel', 'thank', 'that', 'the', 'ther', 'thi', 'think', 'tim', 'to', 'twat', 'understand', 'up', 'us', 'very', 'want', 'was', 'wel', 'what', 'who', 'why', 'wil', 'with', 'yo', 'you']\n"
     ]
    }
   ],
   "source": [
    "words=[stemmeer.stem(w.lower()) for w in words if w not in ignore_words]\n",
    "words=sorted(list(set(words)))\n",
    "#removing the duplicates\n",
    "classes=sorted(list(set(classes)))\n",
    "\n",
    "print(len(documents),\"documents\")\n",
    "print(len(classes),\"classes\",classes)\n",
    "print(len(words),\" unique stemmed words\",words)"
   ]
  },
  {
   "cell_type": "markdown",
   "id": "63c4b56d",
   "metadata": {},
   "source": [
    "Creating a data for our model"
   ]
  },
  {
   "cell_type": "code",
   "execution_count": 5,
   "id": "bd02dc95",
   "metadata": {},
   "outputs": [],
   "source": [
    "training=[]\n",
    "output=[]\n",
    "output_empty=[0]*len(classes)\n",
    "\n",
    "for doc in documents:\n",
    "    #initialize our bag of words\n",
    "    bag=[]\n",
    "    #list the tokenized words\n",
    "    pattern_words=doc[0]\n",
    "    pattern_words=[stemmeer.stem(word.lower()) for word in pattern_words]\n",
    "    # create our bag of words array\n",
    "    for w in words:\n",
    "        bag.append(1) if w in pattern_words else bag.append(0)\n",
    "    output_row=list(output_empty)\n",
    "    output_row[classes.index(doc[1])]=1\n",
    "    training.append([bag,output_row])"
   ]
  },
  {
   "cell_type": "markdown",
   "id": "ebc5a86b",
   "metadata": {},
   "source": [
    "Shuffling randomly and converting into numpy array for faster processing"
   ]
  },
  {
   "cell_type": "code",
   "execution_count": 6,
   "id": "99da686a",
   "metadata": {},
   "outputs": [
    {
     "name": "stdout",
     "output_type": "stream",
     "text": [
      "Creating train and test lists...\n",
      "buliding neural network for our data chatbot\n"
     ]
    },
    {
     "name": "stderr",
     "output_type": "stream",
     "text": [
      "/tmp/ipykernel_6760/409062772.py:2: VisibleDeprecationWarning: Creating an ndarray from ragged nested sequences (which is a list-or-tuple of lists-or-tuples-or ndarrays with different lengths or shapes) is deprecated. If you meant to do this, you must specify 'dtype=object' when creating the ndarray.\n",
      "  training=np.array(training)\n"
     ]
    }
   ],
   "source": [
    "random.shuffle(training)\n",
    "training=np.array(training)\n",
    "\n",
    "print(\"Creating train and test lists...\")\n",
    "X_train=list(training[:,0])\n",
    "Y_train=list(training[:,1])\n",
    "print(\"buliding neural network for our data chatbot\")\n",
    "tf.compat.v1.reset_default_graph()"
   ]
  },
  {
   "cell_type": "markdown",
   "id": "7442fe81",
   "metadata": {},
   "source": [
    "Training"
   ]
  },
  {
   "cell_type": "code",
   "execution_count": 7,
   "id": "4ef39f92",
   "metadata": {},
   "outputs": [
    {
     "name": "stdout",
     "output_type": "stream",
     "text": [
      "WARNING:tensorflow:From /home/revanth/anaconda3/lib/python3.9/site-packages/tflearn/initializations.py:164: calling TruncatedNormal.__init__ (from tensorflow.python.ops.init_ops) with dtype is deprecated and will be removed in a future version.\n",
      "Instructions for updating:\n",
      "Call initializer instance with the dtype argument instead of passing it to the constructor\n"
     ]
    }
   ],
   "source": [
    "net=tflearn.input_data(shape=[None,len(X_train[0])])\n",
    "net=tflearn.fully_connected(net,8)\n",
    "net = tflearn.fully_connected(net, 8)\n",
    "net = tflearn.fully_connected(net, len(Y_train[0]), activation='softmax')\n",
    "net = tflearn.regression(net)"
   ]
  },
  {
   "cell_type": "code",
   "execution_count": 8,
   "id": "ad78f736",
   "metadata": {},
   "outputs": [
    {
     "name": "stderr",
     "output_type": "stream",
     "text": [
      "2023-02-25 15:38:35.360573: W tensorflow/compiler/xla/stream_executor/platform/default/dso_loader.cc:64] Could not load dynamic library 'libcuda.so.1'; dlerror: libcuda.so.1: cannot open shared object file: No such file or directory\n",
      "2023-02-25 15:38:35.360596: W tensorflow/compiler/xla/stream_executor/cuda/cuda_driver.cc:265] failed call to cuInit: UNKNOWN ERROR (303)\n",
      "2023-02-25 15:38:35.360619: I tensorflow/compiler/xla/stream_executor/cuda/cuda_diagnostics.cc:156] kernel driver does not appear to be running on this host (kali): /proc/driver/nvidia/version does not exist\n",
      "2023-02-25 15:38:35.360821: I tensorflow/core/platform/cpu_feature_guard.cc:193] This TensorFlow binary is optimized with oneAPI Deep Neural Network Library (oneDNN) to use the following CPU instructions in performance-critical operations:  AVX2 FMA\n",
      "To enable them in other operations, rebuild TensorFlow with the appropriate compiler flags.\n",
      "2023-02-25 15:38:35.612833: I tensorflow/compiler/mlir/mlir_graph_optimization_pass.cc:357] MLIR V1 optimization pass is not enabled\n"
     ]
    }
   ],
   "source": [
    "model=tflearn.DNN(net,tensorboard_dir='tflearn_logs')"
   ]
  },
  {
   "cell_type": "code",
   "execution_count": 9,
   "id": "b1506474",
   "metadata": {},
   "outputs": [
    {
     "name": "stdout",
     "output_type": "stream",
     "text": [
      "Training Step: 10799  | total loss: \u001b[1m\u001b[32m0.03251\u001b[0m\u001b[0m | time: 0.041s\n",
      "| Adam | epoch: 600 | loss: 0.03251 - acc: 0.9986 -- iter: 136/143\n",
      "Training Step: 10800  | total loss: \u001b[1m\u001b[32m0.02945\u001b[0m\u001b[0m | time: 0.043s\n",
      "| Adam | epoch: 600 | loss: 0.02945 - acc: 0.9987 -- iter: 143/143\n",
      "--\n"
     ]
    }
   ],
   "source": [
    "Train_1=model.fit(X_train,Y_train,n_epoch=600,batch_size=8,show_metric=True)"
   ]
  },
  {
   "cell_type": "code",
   "execution_count": 10,
   "id": "165d11c6",
   "metadata": {},
   "outputs": [
    {
     "name": "stdout",
     "output_type": "stream",
     "text": [
      "INFO:tensorflow:/media/revanth/Data/NLP_R/model.tflearn is not in all_model_checkpoint_paths. Manually adding it.\n"
     ]
    }
   ],
   "source": [
    "model.save('model.tflearn')"
   ]
  },
  {
   "cell_type": "code",
   "execution_count": 11,
   "id": "d1e18808",
   "metadata": {},
   "outputs": [
    {
     "name": "stdout",
     "output_type": "stream",
     "text": [
      "INFO:tensorflow:/media/revanth/Data/NLP_R/chat2.h5 is not in all_model_checkpoint_paths. Manually adding it.\n"
     ]
    }
   ],
   "source": [
    "model.save('chat2.h5')"
   ]
  },
  {
   "cell_type": "markdown",
   "id": "c7e03561",
   "metadata": {},
   "source": [
    "Save the pickle "
   ]
  },
  {
   "cell_type": "code",
   "execution_count": 12,
   "id": "a8aa6f18",
   "metadata": {},
   "outputs": [
    {
     "name": "stdout",
     "output_type": "stream",
     "text": [
      "Pickle is also Saved..........\n"
     ]
    }
   ],
   "source": [
    "print(\"Pickle is also Saved..........\")\n",
    "pickle.dump( {'words1':words, 'classes1':classes, 'train_x':X_train, 'train_y':Y_train}, open( \"training_data\", \"wb\" ) )"
   ]
  },
  {
   "cell_type": "code",
   "execution_count": 13,
   "id": "14c3103b",
   "metadata": {},
   "outputs": [
    {
     "name": "stdout",
     "output_type": "stream",
     "text": [
      "Loading Pickle.....\n"
     ]
    }
   ],
   "source": [
    "print(\"Loading Pickle.....\")\n",
    "data = pickle.load( open( \"training_data\", \"rb\" ) )\n",
    "words = data['words1']\n",
    "classes = data['classes1']\n",
    "train_x = data['train_x']\n",
    "train_y = data['train_y']\n"
   ]
  },
  {
   "cell_type": "code",
   "execution_count": 14,
   "id": "4ec8bb16",
   "metadata": {},
   "outputs": [],
   "source": [
    "with open('/media/revanth/Data/NLP_R/archive/Intent.json') as content2:\n",
    "    data2=json.load(content2)"
   ]
  },
  {
   "cell_type": "code",
   "execution_count": 15,
   "id": "debfff7e",
   "metadata": {},
   "outputs": [
    {
     "name": "stdout",
     "output_type": "stream",
     "text": [
      "INFO:tensorflow:Restoring parameters from /media/revanth/Data/NLP_R/model.tflearn\n"
     ]
    }
   ],
   "source": [
    "model1=model.load('model.tflearn')"
   ]
  },
  {
   "cell_type": "code",
   "execution_count": 16,
   "id": "e3e0fc66",
   "metadata": {},
   "outputs": [
    {
     "name": "stdout",
     "output_type": "stream",
     "text": [
      "INFO:tensorflow:Restoring parameters from /media/revanth/Data/NLP_R/chat2.h5\n"
     ]
    }
   ],
   "source": [
    "model2=model.load('chat2.h5')"
   ]
  },
  {
   "cell_type": "code",
   "execution_count": 17,
   "id": "87ff8793",
   "metadata": {},
   "outputs": [],
   "source": [
    "def clean_up_sentence(sentence):\n",
    "    sentence_words=nltk.word_tokenize(sentence)\n",
    "    \n",
    "    sentence_words=[stemmeer.stem(word.lower()) for word in sentence_words]\n",
    "    return sentence_words"
   ]
  },
  {
   "cell_type": "code",
   "execution_count": 18,
   "id": "07dd5e31",
   "metadata": {},
   "outputs": [
    {
     "name": "stdout",
     "output_type": "stream",
     "text": [
      "ERROR_THRESHOLD = 0.25\n"
     ]
    }
   ],
   "source": [
    "def bow(sentence,words,show_details=False):\n",
    "    sentence_words=clean_up_sentence(sentence)\n",
    "    bag=[0]*len(words)\n",
    "    for s in sentence_words:\n",
    "        for i,w in enumerate(words):\n",
    "            if w==s:\n",
    "                bag[i]=1\n",
    "                if show_details:\n",
    "                    print(\"found in bag %\" % w)\n",
    "    return (np.array(bag))\n",
    "ERROR_THRESHOLD = 0.25\n",
    "print(\"ERROR_THRESHOLD = 0.25\")"
   ]
  },
  {
   "cell_type": "code",
   "execution_count": 19,
   "id": "ece54d75",
   "metadata": {},
   "outputs": [],
   "source": [
    "def classify(sentence):\n",
    "    # Prediction or To Get the Posibility or Probability from the Model\n",
    "    results = model.predict([bow(sentence, words)])[0]\n",
    "    # Exclude those results which are Below Threshold\n",
    "    results = [[i,r] for i,r in enumerate(results) if r>ERROR_THRESHOLD]\n",
    "    # Sorting is Done because heigher Confidence Answer comes first.\n",
    "    results.sort(key=lambda x: x[1], reverse=True)\n",
    "    return_list = []\n",
    "    for r in results:\n",
    "        return_list.append((classes[r[0]], r[1])) #Tuppl -> Intent and Probability\n",
    "    return return_list\n",
    "\n",
    "def response(sentence, userID='123', show_details=False):\n",
    "    results = classify(sentence)\n",
    "    # That Means if Classification is Done then Find the Matching Tag.\n",
    "    if results:\n",
    "        # Long Loop to get the Result.\n",
    "        while results:\n",
    "            for i in data2['intents']:\n",
    "                # Tag Finding\n",
    "                if i['intent'] == results[0][0]:\n",
    "                    # Random Response from High Order Probabilities\n",
    "                    return print(\"🤖 BoT :\",random.choice(i['responses']))\n",
    "\n",
    "            results.pop(0)"
   ]
  },
  {
   "cell_type": "code",
   "execution_count": 21,
   "id": "b42d008e",
   "metadata": {},
   "outputs": [
    {
     "name": "stdout",
     "output_type": "stream",
     "text": [
      "👨‍🦰 You- What is your name\n",
      "🤖 BoT : Call me Geni\n",
      "👨‍🦰 You- HI\n",
      "🤖 BoT : Hello human, please tell me your GeniSys user\n",
      "👨‍🦰 You- open\n",
      "🤖 BoT : Jim, I just don't have the power\n",
      "👨‍🦰 You- ok\n",
      "🤖 BoT : Any time!\n",
      "👨‍🦰 You- sure\n",
      "🤖 BoT : It's life Jim but not as we know it!\n",
      "👨‍🦰 You- how are you\n",
      "🤖 BoT : Hello, how are you? I am great thanks! Please tell me your GeniSys user\n",
      "👨‍🦰 You- i am\n",
      "🤖 BoT : Hello human, please tell me your GeniSys user\n",
      "👨‍🦰 You- who am i\n",
      "🤖 BoT : You may call me Geni\n",
      "👨‍🦰 You- plz open\n",
      "🤖 BoT : System says no!\n",
      "👨‍🦰 You- ok\n",
      "🤖 BoT : No problem!\n",
      "👨‍🦰 You- what do you want\n",
      "🤖 BoT : You can call me Geni\n",
      "👨‍🦰 You- goodbye\n",
      "🤖 BoT : Bye! Come back again soon.\n"
     ]
    }
   ],
   "source": [
    "while True:\n",
    "    input_data = input(\"👨‍🦰 You- \")\n",
    "    answer=response(input_data)\n",
    "    if input_data==\"goodbye\":\n",
    "        break\n",
    "    "
   ]
  },
  {
   "cell_type": "code",
   "execution_count": null,
   "id": "201e3d7f",
   "metadata": {},
   "outputs": [],
   "source": []
  }
 ],
 "metadata": {
  "kernelspec": {
   "display_name": "Python 3 (ipykernel)",
   "language": "python",
   "name": "python3"
  },
  "language_info": {
   "codemirror_mode": {
    "name": "ipython",
    "version": 3
   },
   "file_extension": ".py",
   "mimetype": "text/x-python",
   "name": "python",
   "nbconvert_exporter": "python",
   "pygments_lexer": "ipython3",
   "version": "3.9.13"
  }
 },
 "nbformat": 4,
 "nbformat_minor": 5
}
